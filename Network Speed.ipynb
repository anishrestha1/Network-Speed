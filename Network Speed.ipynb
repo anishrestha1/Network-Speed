{
 "cells": [
  {
   "cell_type": "code",
   "execution_count": 3,
   "metadata": {},
   "outputs": [],
   "source": [
    "import speedtest\n",
    "from tabulate import tabulate"
   ]
  },
  {
   "cell_type": "code",
   "execution_count": 6,
   "metadata": {},
   "outputs": [],
   "source": [
    "class Network(object):\n",
    "    def __init__(self):\n",
    "        self.parser = speedtest.Speedtest()\n",
    "    \n",
    "    def data(self):\n",
    "        down = str(f\"{round(self.parser.download() / 1_000_000, 2)} Mbps\")\n",
    "        up = str(f\"{round(self.parser.upload() / 1_000_000, 2)} Mbps\")\n",
    "        return [[\"Interface\", \"Download\",\"Upload\"],[\"Xiaomi Router 3C\", down, up]]\n",
    "    \n",
    "    def __repr__(self):\n",
    "        speed = self.data()\n",
    "        return tabulate(speed, headers = \"firstrow\", tablefmt = \"fancy_grid\")"
   ]
  },
  {
   "cell_type": "code",
   "execution_count": null,
   "metadata": {},
   "outputs": [],
   "source": [
    "if __name__ == \"__main__\":\n",
    "    print(Network())"
   ]
  },
  {
   "cell_type": "code",
   "execution_count": null,
   "metadata": {},
   "outputs": [],
   "source": []
  }
 ],
 "metadata": {
  "kernelspec": {
   "display_name": "Python 3",
   "language": "python",
   "name": "python3"
  },
  "language_info": {
   "codemirror_mode": {
    "name": "ipython",
    "version": 3
   },
   "file_extension": ".py",
   "mimetype": "text/x-python",
   "name": "python",
   "nbconvert_exporter": "python",
   "pygments_lexer": "ipython3",
   "version": "3.7.6"
  }
 },
 "nbformat": 4,
 "nbformat_minor": 4
}
